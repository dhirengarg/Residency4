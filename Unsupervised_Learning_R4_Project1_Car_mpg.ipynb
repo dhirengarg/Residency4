{
 "cells": [
  {
   "cell_type": "code",
   "execution_count": 413,
   "metadata": {},
   "outputs": [],
   "source": [
    "import pandas as pd \n",
    "import numpy as np"
   ]
  },
  {
   "cell_type": "code",
   "execution_count": 414,
   "metadata": {},
   "outputs": [],
   "source": [
    "df = pd.read_csv(\"cars-dataset.csv\")"
   ]
  },
  {
   "cell_type": "code",
   "execution_count": 415,
   "metadata": {},
   "outputs": [
    {
     "data": {
      "text/html": [
       "<div>\n",
       "<style scoped>\n",
       "    .dataframe tbody tr th:only-of-type {\n",
       "        vertical-align: middle;\n",
       "    }\n",
       "\n",
       "    .dataframe tbody tr th {\n",
       "        vertical-align: top;\n",
       "    }\n",
       "\n",
       "    .dataframe thead th {\n",
       "        text-align: right;\n",
       "    }\n",
       "</style>\n",
       "<table border=\"1\" class=\"dataframe\">\n",
       "  <thead>\n",
       "    <tr style=\"text-align: right;\">\n",
       "      <th></th>\n",
       "      <th>car name</th>\n",
       "      <th>cyl</th>\n",
       "      <th>disp</th>\n",
       "      <th>hp</th>\n",
       "      <th>wt</th>\n",
       "      <th>acc</th>\n",
       "      <th>yr</th>\n",
       "      <th>mpg</th>\n",
       "    </tr>\n",
       "  </thead>\n",
       "  <tbody>\n",
       "    <tr>\n",
       "      <th>0</th>\n",
       "      <td>chevrolet chevelle malibu</td>\n",
       "      <td>8</td>\n",
       "      <td>307.0</td>\n",
       "      <td>130</td>\n",
       "      <td>3504</td>\n",
       "      <td>12.0</td>\n",
       "      <td>70</td>\n",
       "      <td>18.0</td>\n",
       "    </tr>\n",
       "    <tr>\n",
       "      <th>1</th>\n",
       "      <td>buick skylark 320</td>\n",
       "      <td>8</td>\n",
       "      <td>350.0</td>\n",
       "      <td>165</td>\n",
       "      <td>3693</td>\n",
       "      <td>11.5</td>\n",
       "      <td>70</td>\n",
       "      <td>15.0</td>\n",
       "    </tr>\n",
       "    <tr>\n",
       "      <th>2</th>\n",
       "      <td>plymouth satellite</td>\n",
       "      <td>8</td>\n",
       "      <td>318.0</td>\n",
       "      <td>150</td>\n",
       "      <td>3436</td>\n",
       "      <td>11.0</td>\n",
       "      <td>70</td>\n",
       "      <td>18.0</td>\n",
       "    </tr>\n",
       "    <tr>\n",
       "      <th>3</th>\n",
       "      <td>amc rebel sst</td>\n",
       "      <td>8</td>\n",
       "      <td>304.0</td>\n",
       "      <td>150</td>\n",
       "      <td>3433</td>\n",
       "      <td>12.0</td>\n",
       "      <td>70</td>\n",
       "      <td>16.0</td>\n",
       "    </tr>\n",
       "    <tr>\n",
       "      <th>4</th>\n",
       "      <td>ford torino</td>\n",
       "      <td>8</td>\n",
       "      <td>302.0</td>\n",
       "      <td>140</td>\n",
       "      <td>3449</td>\n",
       "      <td>10.5</td>\n",
       "      <td>70</td>\n",
       "      <td>17.0</td>\n",
       "    </tr>\n",
       "  </tbody>\n",
       "</table>\n",
       "</div>"
      ],
      "text/plain": [
       "                    car name  cyl   disp   hp    wt   acc  yr   mpg\n",
       "0  chevrolet chevelle malibu    8  307.0  130  3504  12.0  70  18.0\n",
       "1          buick skylark 320    8  350.0  165  3693  11.5  70  15.0\n",
       "2         plymouth satellite    8  318.0  150  3436  11.0  70  18.0\n",
       "3              amc rebel sst    8  304.0  150  3433  12.0  70  16.0\n",
       "4                ford torino    8  302.0  140  3449  10.5  70  17.0"
      ]
     },
     "execution_count": 415,
     "metadata": {},
     "output_type": "execute_result"
    }
   ],
   "source": [
    "df.head()"
   ]
  },
  {
   "cell_type": "code",
   "execution_count": 416,
   "metadata": {},
   "outputs": [
    {
     "data": {
      "text/plain": [
       "4    204\n",
       "8    103\n",
       "6     84\n",
       "3      4\n",
       "5      3\n",
       "Name: cyl, dtype: int64"
      ]
     },
     "execution_count": 416,
     "metadata": {},
     "output_type": "execute_result"
    }
   ],
   "source": [
    "df.cyl.value_counts()"
   ]
  },
  {
   "cell_type": "code",
   "execution_count": 417,
   "metadata": {
    "scrolled": false
   },
   "outputs": [
    {
     "name": "stdout",
     "output_type": "stream",
     "text": [
      "<class 'pandas.core.frame.DataFrame'>\n",
      "RangeIndex: 398 entries, 0 to 397\n",
      "Data columns (total 8 columns):\n",
      "car name    398 non-null object\n",
      "cyl         398 non-null int64\n",
      "disp        398 non-null float64\n",
      "hp          398 non-null object\n",
      "wt          398 non-null int64\n",
      "acc         398 non-null float64\n",
      "yr          398 non-null int64\n",
      "mpg         398 non-null float64\n",
      "dtypes: float64(3), int64(3), object(2)\n",
      "memory usage: 25.0+ KB\n"
     ]
    }
   ],
   "source": [
    "df.info()"
   ]
  },
  {
   "cell_type": "code",
   "execution_count": 418,
   "metadata": {
    "scrolled": true
   },
   "outputs": [
    {
     "data": {
      "text/plain": [
       "(398, 8)"
      ]
     },
     "execution_count": 418,
     "metadata": {},
     "output_type": "execute_result"
    }
   ],
   "source": [
    "df.shape"
   ]
  },
  {
   "cell_type": "code",
   "execution_count": 419,
   "metadata": {},
   "outputs": [
    {
     "data": {
      "text/html": [
       "<div>\n",
       "<style scoped>\n",
       "    .dataframe tbody tr th:only-of-type {\n",
       "        vertical-align: middle;\n",
       "    }\n",
       "\n",
       "    .dataframe tbody tr th {\n",
       "        vertical-align: top;\n",
       "    }\n",
       "\n",
       "    .dataframe thead th {\n",
       "        text-align: right;\n",
       "    }\n",
       "</style>\n",
       "<table border=\"1\" class=\"dataframe\">\n",
       "  <thead>\n",
       "    <tr style=\"text-align: right;\">\n",
       "      <th></th>\n",
       "      <th>count</th>\n",
       "      <th>mean</th>\n",
       "      <th>std</th>\n",
       "      <th>min</th>\n",
       "      <th>25%</th>\n",
       "      <th>50%</th>\n",
       "      <th>75%</th>\n",
       "      <th>max</th>\n",
       "    </tr>\n",
       "  </thead>\n",
       "  <tbody>\n",
       "    <tr>\n",
       "      <th>cyl</th>\n",
       "      <td>398.0</td>\n",
       "      <td>5.454774</td>\n",
       "      <td>1.701004</td>\n",
       "      <td>3.0</td>\n",
       "      <td>4.000</td>\n",
       "      <td>4.0</td>\n",
       "      <td>8.000</td>\n",
       "      <td>8.0</td>\n",
       "    </tr>\n",
       "    <tr>\n",
       "      <th>disp</th>\n",
       "      <td>398.0</td>\n",
       "      <td>193.425879</td>\n",
       "      <td>104.269838</td>\n",
       "      <td>68.0</td>\n",
       "      <td>104.250</td>\n",
       "      <td>148.5</td>\n",
       "      <td>262.000</td>\n",
       "      <td>455.0</td>\n",
       "    </tr>\n",
       "    <tr>\n",
       "      <th>wt</th>\n",
       "      <td>398.0</td>\n",
       "      <td>2970.424623</td>\n",
       "      <td>846.841774</td>\n",
       "      <td>1613.0</td>\n",
       "      <td>2223.750</td>\n",
       "      <td>2803.5</td>\n",
       "      <td>3608.000</td>\n",
       "      <td>5140.0</td>\n",
       "    </tr>\n",
       "    <tr>\n",
       "      <th>acc</th>\n",
       "      <td>398.0</td>\n",
       "      <td>15.568090</td>\n",
       "      <td>2.757689</td>\n",
       "      <td>8.0</td>\n",
       "      <td>13.825</td>\n",
       "      <td>15.5</td>\n",
       "      <td>17.175</td>\n",
       "      <td>24.8</td>\n",
       "    </tr>\n",
       "    <tr>\n",
       "      <th>yr</th>\n",
       "      <td>398.0</td>\n",
       "      <td>76.010050</td>\n",
       "      <td>3.697627</td>\n",
       "      <td>70.0</td>\n",
       "      <td>73.000</td>\n",
       "      <td>76.0</td>\n",
       "      <td>79.000</td>\n",
       "      <td>82.0</td>\n",
       "    </tr>\n",
       "    <tr>\n",
       "      <th>mpg</th>\n",
       "      <td>398.0</td>\n",
       "      <td>23.514573</td>\n",
       "      <td>7.815984</td>\n",
       "      <td>9.0</td>\n",
       "      <td>17.500</td>\n",
       "      <td>23.0</td>\n",
       "      <td>29.000</td>\n",
       "      <td>46.6</td>\n",
       "    </tr>\n",
       "  </tbody>\n",
       "</table>\n",
       "</div>"
      ],
      "text/plain": [
       "      count         mean         std     min       25%     50%       75%  \\\n",
       "cyl   398.0     5.454774    1.701004     3.0     4.000     4.0     8.000   \n",
       "disp  398.0   193.425879  104.269838    68.0   104.250   148.5   262.000   \n",
       "wt    398.0  2970.424623  846.841774  1613.0  2223.750  2803.5  3608.000   \n",
       "acc   398.0    15.568090    2.757689     8.0    13.825    15.5    17.175   \n",
       "yr    398.0    76.010050    3.697627    70.0    73.000    76.0    79.000   \n",
       "mpg   398.0    23.514573    7.815984     9.0    17.500    23.0    29.000   \n",
       "\n",
       "         max  \n",
       "cyl      8.0  \n",
       "disp   455.0  \n",
       "wt    5140.0  \n",
       "acc     24.8  \n",
       "yr      82.0  \n",
       "mpg     46.6  "
      ]
     },
     "execution_count": 419,
     "metadata": {},
     "output_type": "execute_result"
    }
   ],
   "source": [
    "df.describe().transpose() #hp column is not shown here.. means some problem with hp columns. "
   ]
  },
  {
   "cell_type": "code",
   "execution_count": 420,
   "metadata": {
    "scrolled": true
   },
   "outputs": [
    {
     "data": {
      "text/plain": [
       "False"
      ]
     },
     "execution_count": 420,
     "metadata": {},
     "output_type": "execute_result"
    }
   ],
   "source": [
    "df.isnull().all().all()"
   ]
  },
  {
   "cell_type": "code",
   "execution_count": 421,
   "metadata": {},
   "outputs": [
    {
     "data": {
      "text/plain": [
       "False"
      ]
     },
     "execution_count": 421,
     "metadata": {},
     "output_type": "execute_result"
    }
   ],
   "source": [
    "df.isna().all().all()"
   ]
  },
  {
   "cell_type": "markdown",
   "metadata": {},
   "source": [
    "#### Dropping all non numeric values "
   ]
  },
  {
   "cell_type": "code",
   "execution_count": 422,
   "metadata": {},
   "outputs": [
    {
     "data": {
      "text/html": [
       "<div>\n",
       "<style scoped>\n",
       "    .dataframe tbody tr th:only-of-type {\n",
       "        vertical-align: middle;\n",
       "    }\n",
       "\n",
       "    .dataframe tbody tr th {\n",
       "        vertical-align: top;\n",
       "    }\n",
       "\n",
       "    .dataframe thead th {\n",
       "        text-align: right;\n",
       "    }\n",
       "</style>\n",
       "<table border=\"1\" class=\"dataframe\">\n",
       "  <thead>\n",
       "    <tr style=\"text-align: right;\">\n",
       "      <th></th>\n",
       "      <th>hp</th>\n",
       "    </tr>\n",
       "  </thead>\n",
       "  <tbody>\n",
       "    <tr>\n",
       "      <th>32</th>\n",
       "      <td>False</td>\n",
       "    </tr>\n",
       "    <tr>\n",
       "      <th>126</th>\n",
       "      <td>False</td>\n",
       "    </tr>\n",
       "    <tr>\n",
       "      <th>330</th>\n",
       "      <td>False</td>\n",
       "    </tr>\n",
       "    <tr>\n",
       "      <th>336</th>\n",
       "      <td>False</td>\n",
       "    </tr>\n",
       "    <tr>\n",
       "      <th>354</th>\n",
       "      <td>False</td>\n",
       "    </tr>\n",
       "    <tr>\n",
       "      <th>374</th>\n",
       "      <td>False</td>\n",
       "    </tr>\n",
       "  </tbody>\n",
       "</table>\n",
       "</div>"
      ],
      "text/plain": [
       "        hp\n",
       "32   False\n",
       "126  False\n",
       "330  False\n",
       "336  False\n",
       "354  False\n",
       "374  False"
      ]
     },
     "execution_count": 422,
     "metadata": {},
     "output_type": "execute_result"
    }
   ],
   "source": [
    "temp = pd.DataFrame(df.hp.str.isdigit()) \n",
    "temp[temp['hp'] == False]"
   ]
  },
  {
   "cell_type": "code",
   "execution_count": 423,
   "metadata": {},
   "outputs": [
    {
     "name": "stdout",
     "output_type": "stream",
     "text": [
      "problem is with hp column\n"
     ]
    }
   ],
   "source": [
    "coluumns = df.columns.values\n",
    "for i in range(1,len(coluumns)):\n",
    "    try:\n",
    "        df[coluumns[i]] = pd.to_numeric(df[coluumns[i]])\n",
    "    except:\n",
    "        print(\"problem is with \" + coluumns[i] + \" column\")\n"
   ]
  },
  {
   "cell_type": "code",
   "execution_count": 424,
   "metadata": {},
   "outputs": [
    {
     "data": {
      "text/plain": [
       "6"
      ]
     },
     "execution_count": 424,
     "metadata": {},
     "output_type": "execute_result"
    }
   ],
   "source": [
    "df['hp'] = pd.to_numeric(df.hp,errors='coerce')\n",
    "sum(df.hp.isnull())  #6 values which were non numeric. "
   ]
  },
  {
   "cell_type": "code",
   "execution_count": 425,
   "metadata": {},
   "outputs": [
    {
     "data": {
      "text/plain": [
       "(392, 8)"
      ]
     },
     "execution_count": 425,
     "metadata": {},
     "output_type": "execute_result"
    }
   ],
   "source": [
    "df = df.dropna()\n",
    "df.shape"
   ]
  },
  {
   "cell_type": "code",
   "execution_count": 426,
   "metadata": {},
   "outputs": [
    {
     "data": {
      "text/plain": [
       "car name     object\n",
       "cyl           int64\n",
       "disp        float64\n",
       "hp          float64\n",
       "wt            int64\n",
       "acc         float64\n",
       "yr            int64\n",
       "mpg         float64\n",
       "dtype: object"
      ]
     },
     "execution_count": 426,
     "metadata": {},
     "output_type": "execute_result"
    }
   ],
   "source": [
    "df.dtypes"
   ]
  },
  {
   "cell_type": "code",
   "execution_count": 427,
   "metadata": {},
   "outputs": [],
   "source": [
    "import seaborn as sns"
   ]
  },
  {
   "cell_type": "code",
   "execution_count": 428,
   "metadata": {},
   "outputs": [],
   "source": [
    "#sns.pairplot(df, diag_kind='kde', hue = 'cyl')\n",
    "# by looking at the pairplot there could be naturally 3 clusters. "
   ]
  },
  {
   "cell_type": "code",
   "execution_count": 429,
   "metadata": {},
   "outputs": [
    {
     "name": "stdout",
     "output_type": "stream",
     "text": [
      "<class 'pandas.core.frame.DataFrame'>\n",
      "Int64Index: 392 entries, 0 to 397\n",
      "Data columns (total 8 columns):\n",
      "car name    392 non-null object\n",
      "cyl         392 non-null int64\n",
      "disp        392 non-null float64\n",
      "hp          392 non-null float64\n",
      "wt          392 non-null int64\n",
      "acc         392 non-null float64\n",
      "yr          392 non-null int64\n",
      "mpg         392 non-null float64\n",
      "dtypes: float64(4), int64(3), object(1)\n",
      "memory usage: 27.6+ KB\n"
     ]
    }
   ],
   "source": [
    "df.info()"
   ]
  },
  {
   "cell_type": "code",
   "execution_count": 430,
   "metadata": {},
   "outputs": [],
   "source": [
    "df.drop(['car name', 'yr'], axis= 1, inplace=True)"
   ]
  },
  {
   "cell_type": "code",
   "execution_count": 431,
   "metadata": {},
   "outputs": [
    {
     "name": "stdout",
     "output_type": "stream",
     "text": [
      "<class 'pandas.core.frame.DataFrame'>\n",
      "Int64Index: 392 entries, 0 to 397\n",
      "Data columns (total 6 columns):\n",
      "cyl     392 non-null int64\n",
      "disp    392 non-null float64\n",
      "hp      392 non-null float64\n",
      "wt      392 non-null int64\n",
      "acc     392 non-null float64\n",
      "mpg     392 non-null float64\n",
      "dtypes: float64(4), int64(2)\n",
      "memory usage: 21.4 KB\n"
     ]
    }
   ],
   "source": [
    "df.info()"
   ]
  },
  {
   "cell_type": "code",
   "execution_count": 432,
   "metadata": {},
   "outputs": [],
   "source": [
    "from scipy.stats import zscore\n",
    "\n",
    "df_z = df.apply(zscore)"
   ]
  },
  {
   "cell_type": "code",
   "execution_count": 433,
   "metadata": {},
   "outputs": [
    {
     "data": {
      "text/html": [
       "<div>\n",
       "<style scoped>\n",
       "    .dataframe tbody tr th:only-of-type {\n",
       "        vertical-align: middle;\n",
       "    }\n",
       "\n",
       "    .dataframe tbody tr th {\n",
       "        vertical-align: top;\n",
       "    }\n",
       "\n",
       "    .dataframe thead th {\n",
       "        text-align: right;\n",
       "    }\n",
       "</style>\n",
       "<table border=\"1\" class=\"dataframe\">\n",
       "  <thead>\n",
       "    <tr style=\"text-align: right;\">\n",
       "      <th></th>\n",
       "      <th>count</th>\n",
       "      <th>mean</th>\n",
       "      <th>std</th>\n",
       "      <th>min</th>\n",
       "      <th>25%</th>\n",
       "      <th>50%</th>\n",
       "      <th>75%</th>\n",
       "      <th>max</th>\n",
       "    </tr>\n",
       "  </thead>\n",
       "  <tbody>\n",
       "    <tr>\n",
       "      <th>cyl</th>\n",
       "      <td>392.0</td>\n",
       "      <td>-1.699321e-16</td>\n",
       "      <td>1.001278</td>\n",
       "      <td>-1.451004</td>\n",
       "      <td>-0.864014</td>\n",
       "      <td>-0.864014</td>\n",
       "      <td>1.483947</td>\n",
       "      <td>1.483947</td>\n",
       "    </tr>\n",
       "    <tr>\n",
       "      <th>disp</th>\n",
       "      <td>392.0</td>\n",
       "      <td>-2.537653e-16</td>\n",
       "      <td>1.001278</td>\n",
       "      <td>-1.209563</td>\n",
       "      <td>-0.855532</td>\n",
       "      <td>-0.415384</td>\n",
       "      <td>0.778276</td>\n",
       "      <td>2.493416</td>\n",
       "    </tr>\n",
       "    <tr>\n",
       "      <th>hp</th>\n",
       "      <td>392.0</td>\n",
       "      <td>-4.392745e-16</td>\n",
       "      <td>1.001278</td>\n",
       "      <td>-1.520975</td>\n",
       "      <td>-0.766593</td>\n",
       "      <td>-0.285349</td>\n",
       "      <td>0.560080</td>\n",
       "      <td>3.265452</td>\n",
       "    </tr>\n",
       "    <tr>\n",
       "      <th>wt</th>\n",
       "      <td>392.0</td>\n",
       "      <td>5.607759e-17</td>\n",
       "      <td>1.001278</td>\n",
       "      <td>-1.608575</td>\n",
       "      <td>-0.886854</td>\n",
       "      <td>-0.205211</td>\n",
       "      <td>0.751093</td>\n",
       "      <td>2.549061</td>\n",
       "    </tr>\n",
       "    <tr>\n",
       "      <th>acc</th>\n",
       "      <td>392.0</td>\n",
       "      <td>6.117555e-16</td>\n",
       "      <td>1.001278</td>\n",
       "      <td>-2.736983</td>\n",
       "      <td>-0.641055</td>\n",
       "      <td>-0.014999</td>\n",
       "      <td>0.538471</td>\n",
       "      <td>3.360262</td>\n",
       "    </tr>\n",
       "    <tr>\n",
       "      <th>mpg</th>\n",
       "      <td>392.0</td>\n",
       "      <td>-1.840931e-16</td>\n",
       "      <td>1.001278</td>\n",
       "      <td>-1.853218</td>\n",
       "      <td>-0.826925</td>\n",
       "      <td>-0.089277</td>\n",
       "      <td>0.712514</td>\n",
       "      <td>2.970359</td>\n",
       "    </tr>\n",
       "  </tbody>\n",
       "</table>\n",
       "</div>"
      ],
      "text/plain": [
       "      count          mean       std       min       25%       50%       75%  \\\n",
       "cyl   392.0 -1.699321e-16  1.001278 -1.451004 -0.864014 -0.864014  1.483947   \n",
       "disp  392.0 -2.537653e-16  1.001278 -1.209563 -0.855532 -0.415384  0.778276   \n",
       "hp    392.0 -4.392745e-16  1.001278 -1.520975 -0.766593 -0.285349  0.560080   \n",
       "wt    392.0  5.607759e-17  1.001278 -1.608575 -0.886854 -0.205211  0.751093   \n",
       "acc   392.0  6.117555e-16  1.001278 -2.736983 -0.641055 -0.014999  0.538471   \n",
       "mpg   392.0 -1.840931e-16  1.001278 -1.853218 -0.826925 -0.089277  0.712514   \n",
       "\n",
       "           max  \n",
       "cyl   1.483947  \n",
       "disp  2.493416  \n",
       "hp    3.265452  \n",
       "wt    2.549061  \n",
       "acc   3.360262  \n",
       "mpg   2.970359  "
      ]
     },
     "execution_count": 433,
     "metadata": {},
     "output_type": "execute_result"
    }
   ],
   "source": [
    "df_z.describe().transpose()"
   ]
  },
  {
   "cell_type": "code",
   "execution_count": 434,
   "metadata": {},
   "outputs": [],
   "source": [
    "from sklearn.cluster import KMeans"
   ]
  },
  {
   "cell_type": "code",
   "execution_count": 435,
   "metadata": {},
   "outputs": [],
   "source": [
    "cluster_range = range( 2, 10)   # expect 3 to four clusters from the pair panel visual inspection hence restricting from 2 to 6\n",
    "cluster_errors = []\n",
    "for num_clusters in cluster_range:\n",
    "  clusters = KMeans( num_clusters)\n",
    "  clusters.fit(df_z)\n",
    "  labels = clusters.labels_\n",
    "  centroids = clusters.cluster_centers_\n",
    "  cluster_errors.append( clusters.inertia_ )\n",
    "clusters_df = pd.DataFrame( { \"num_clusters\":cluster_range, \"cluster_errors\": cluster_errors } )"
   ]
  },
  {
   "cell_type": "code",
   "execution_count": 436,
   "metadata": {},
   "outputs": [
    {
     "data": {
      "text/plain": [
       "[<matplotlib.lines.Line2D at 0x207f12a6a90>]"
      ]
     },
     "execution_count": 436,
     "metadata": {},
     "output_type": "execute_result"
    },
    {
     "data": {
      "image/png": "[encoded data removed]",
      "text/plain": [
       "<Figure size 864x432 with 1 Axes>"
      ]
     },
     "metadata": {
      "needs_background": "light"
     },
     "output_type": "display_data"
    }
   ],
   "source": [
    "from matplotlib import pyplot as plt\n",
    "plt.figure(figsize=(12,6))\n",
    "plt.plot( clusters_df.num_clusters, clusters_df.cluster_errors, marker = \"o\" )"
   ]
  },
  {
   "cell_type": "code",
   "execution_count": 437,
   "metadata": {},
   "outputs": [
    {
     "data": {
      "text/plain": [
       "KMeans(algorithm='auto', copy_x=True, init='k-means++', max_iter=300,\n",
       "    n_clusters=4, n_init=10, n_jobs=None, precompute_distances='auto',\n",
       "    random_state=2354, tol=0.0001, verbose=0)"
      ]
     },
     "execution_count": 437,
     "metadata": {},
     "output_type": "execute_result"
    }
   ],
   "source": [
    "cluster = KMeans( n_clusters = 4, random_state = 2354 )\n",
    "cluster.fit(df_z)"
   ]
  },
  {
   "cell_type": "code",
   "execution_count": 438,
   "metadata": {},
   "outputs": [
    {
     "data": {
      "text/plain": [
       "array([[ 1.47184414,  1.46979213,  1.49145953,  1.37493755, -1.05253303,\n",
       "        -1.14393843],\n",
       "       [-0.85505187, -0.75959176, -0.48640496, -0.71771557, -0.18649062,\n",
       "         0.57678511],\n",
       "       [ 0.39187234,  0.28655964, -0.08843498,  0.32259113,  0.35679482,\n",
       "        -0.50412011],\n",
       "       [-0.82638598, -0.86804417, -0.94034765, -0.86014153,  1.22873873,\n",
       "         1.00971162]])"
      ]
     },
     "execution_count": 438,
     "metadata": {},
     "output_type": "execute_result"
    }
   ],
   "source": [
    "centroids = cluster.cluster_centers_\n",
    "centroids"
   ]
  },
  {
   "cell_type": "code",
   "execution_count": 439,
   "metadata": {},
   "outputs": [],
   "source": [
    "prediction=cluster.predict(df_z)\n",
    "df_z[\"Group\"] = prediction"
   ]
  },
  {
   "cell_type": "code",
   "execution_count": 440,
   "metadata": {},
   "outputs": [
    {
     "data": {
      "text/html": [
       "<div>\n",
       "<style scoped>\n",
       "    .dataframe tbody tr th:only-of-type {\n",
       "        vertical-align: middle;\n",
       "    }\n",
       "\n",
       "    .dataframe tbody tr th {\n",
       "        vertical-align: top;\n",
       "    }\n",
       "\n",
       "    .dataframe thead th {\n",
       "        text-align: right;\n",
       "    }\n",
       "</style>\n",
       "<table border=\"1\" class=\"dataframe\">\n",
       "  <thead>\n",
       "    <tr style=\"text-align: right;\">\n",
       "      <th></th>\n",
       "      <th>cyl</th>\n",
       "      <th>disp</th>\n",
       "      <th>hp</th>\n",
       "      <th>wt</th>\n",
       "      <th>acc</th>\n",
       "      <th>mpg</th>\n",
       "      <th>Group</th>\n",
       "    </tr>\n",
       "  </thead>\n",
       "  <tbody>\n",
       "    <tr>\n",
       "      <th>0</th>\n",
       "      <td>1.483947</td>\n",
       "      <td>1.077290</td>\n",
       "      <td>0.664133</td>\n",
       "      <td>0.620540</td>\n",
       "      <td>-1.285258</td>\n",
       "      <td>-0.698638</td>\n",
       "      <td>0</td>\n",
       "    </tr>\n",
       "    <tr>\n",
       "      <th>1</th>\n",
       "      <td>1.483947</td>\n",
       "      <td>1.488732</td>\n",
       "      <td>1.574594</td>\n",
       "      <td>0.843334</td>\n",
       "      <td>-1.466724</td>\n",
       "      <td>-1.083498</td>\n",
       "      <td>0</td>\n",
       "    </tr>\n",
       "    <tr>\n",
       "      <th>2</th>\n",
       "      <td>1.483947</td>\n",
       "      <td>1.182542</td>\n",
       "      <td>1.184397</td>\n",
       "      <td>0.540382</td>\n",
       "      <td>-1.648189</td>\n",
       "      <td>-0.698638</td>\n",
       "      <td>0</td>\n",
       "    </tr>\n",
       "    <tr>\n",
       "      <th>3</th>\n",
       "      <td>1.483947</td>\n",
       "      <td>1.048584</td>\n",
       "      <td>1.184397</td>\n",
       "      <td>0.536845</td>\n",
       "      <td>-1.285258</td>\n",
       "      <td>-0.955212</td>\n",
       "      <td>0</td>\n",
       "    </tr>\n",
       "    <tr>\n",
       "      <th>4</th>\n",
       "      <td>1.483947</td>\n",
       "      <td>1.029447</td>\n",
       "      <td>0.924265</td>\n",
       "      <td>0.555706</td>\n",
       "      <td>-1.829655</td>\n",
       "      <td>-0.826925</td>\n",
       "      <td>0</td>\n",
       "    </tr>\n",
       "  </tbody>\n",
       "</table>\n",
       "</div>"
      ],
      "text/plain": [
       "        cyl      disp        hp        wt       acc       mpg  Group\n",
       "0  1.483947  1.077290  0.664133  0.620540 -1.285258 -0.698638      0\n",
       "1  1.483947  1.488732  1.574594  0.843334 -1.466724 -1.083498      0\n",
       "2  1.483947  1.182542  1.184397  0.540382 -1.648189 -0.698638      0\n",
       "3  1.483947  1.048584  1.184397  0.536845 -1.285258 -0.955212      0\n",
       "4  1.483947  1.029447  0.924265  0.555706 -1.829655 -0.826925      0"
      ]
     },
     "execution_count": 440,
     "metadata": {},
     "output_type": "execute_result"
    }
   ],
   "source": [
    "df_z.head()"
   ]
  },
  {
   "cell_type": "code",
   "execution_count": 441,
   "metadata": {},
   "outputs": [
    {
     "data": {
      "text/plain": [
       "array([[<matplotlib.axes._subplots.AxesSubplot object at 0x00000207F129F7B8>,\n",
       "        <matplotlib.axes._subplots.AxesSubplot object at 0x00000207F2E709B0>,\n",
       "        <matplotlib.axes._subplots.AxesSubplot object at 0x00000207F2CD69B0>,\n",
       "        <matplotlib.axes._subplots.AxesSubplot object at 0x00000207F2D029E8>],\n",
       "       [<matplotlib.axes._subplots.AxesSubplot object at 0x00000207F2D2BA58>,\n",
       "        <matplotlib.axes._subplots.AxesSubplot object at 0x00000207F2D2BA90>,\n",
       "        <matplotlib.axes._subplots.AxesSubplot object at 0x00000207F2D81B38>,\n",
       "        <matplotlib.axes._subplots.AxesSubplot object at 0x00000207F2DABE48>]],\n",
       "      dtype=object)"
      ]
     },
     "execution_count": 441,
     "metadata": {},
     "output_type": "execute_result"
    },
    {
     "data": {
      "image/png": "[encoded data removed]",
      "text/plain": [
       "<Figure size 1080x720 with 8 Axes>"
      ]
     },
     "metadata": {
      "needs_background": "light"
     },
     "output_type": "display_data"
    }
   ],
   "source": [
    "import matplotlib.pylab as plt\n",
    "\n",
    "df_z.boxplot(by = 'Group',  layout=(2,4), figsize=(15, 10))"
   ]
  },
  {
   "cell_type": "code",
   "execution_count": 442,
   "metadata": {},
   "outputs": [],
   "source": [
    "from sklearn.linear_model import LinearRegression\n",
    "from sklearn.model_selection import train_test_split"
   ]
  },
  {
   "cell_type": "code",
   "execution_count": 443,
   "metadata": {},
   "outputs": [
    {
     "name": "stdout",
     "output_type": "stream",
     "text": [
      "For Cluster 0\n",
      "The coefficient for  cyl is -0.38757514644138436\n",
      "The coefficient for  disp is 0.14394569315468972\n",
      "The coefficient for  hp is -0.25241933289737556\n",
      "The coefficient for  wt is -0.19499801264908156\n",
      "The coefficient for  acc is -0.06731737158107935\n",
      "The intercept for our model is -0.21479861622279883\n",
      "Training score is 0.4862181303124735\n",
      "Testing score is 0.08740725376233482\n",
      "For Cluster 1\n",
      "The coefficient for  cyl is 0.6277817664773097\n",
      "The coefficient for  disp is 0.4410878045588974\n",
      "The coefficient for  hp is -1.0321856199157515\n",
      "The coefficient for  wt is -0.4074071914070066\n",
      "The coefficient for  acc is -0.3352107212945187\n",
      "The intercept for our model is 0.5596938581196397\n",
      "Training score is 0.48576129820858177\n",
      "Testing score is 0.4034892056846183\n",
      "For Cluster 2\n",
      "The coefficient for  cyl is 0.35116006046995923\n",
      "The coefficient for  disp is -0.5205190181776508\n",
      "The coefficient for  hp is 0.13059229503616512\n",
      "The coefficient for  wt is -0.19694681749215143\n",
      "The coefficient for  acc is 0.06879064761154159\n",
      "The intercept for our model is -0.44810272447630195\n",
      "Training score is 0.3152945042936406\n",
      "Testing score is -0.5683099106951599\n",
      "For Cluster 3\n",
      "The coefficient for  cyl is 1.2648340396502857\n",
      "The coefficient for  disp is -0.7334556231459292\n",
      "The coefficient for  hp is -1.194338093880586\n",
      "The coefficient for  wt is 0.08686133535423081\n",
      "The coefficient for  acc is -0.35112624344992355\n",
      "The intercept for our model is 0.7111721881151887\n",
      "Training score is 0.3210237340403228\n",
      "Testing score is 0.31040553783923697\n"
     ]
    }
   ],
   "source": [
    "for i in range(4):\n",
    "    X = df_z[df_z.Group == i].drop(['mpg', 'Group'], axis=1)\n",
    "    y = df_z[df_z.Group == i][['mpg']]\n",
    "    X_train, X_test, y_train, y_test = train_test_split(X, y, test_size=0.30, random_state=1)\n",
    "    regression_model = LinearRegression()\n",
    "    regression_model.fit(X_train, y_train)\n",
    "    print(\"For Cluster \" + str(i))\n",
    "    for idx, col_name in enumerate(X_train.columns):\n",
    "        print(\"The coefficient for  {} is {}\".format(col_name, regression_model.coef_[0][idx]))\n",
    "    intercept = regression_model.intercept_[0]\n",
    "    print(\"The intercept for our model is {}\".format(intercept))\n",
    "    print(\"Training score is \" + str(regression_model.score(X_train, y_train)))\n",
    "    print(\"Testing score is \" + str(regression_model.score(X_test, y_test)))"
   ]
  },
  {
   "cell_type": "code",
   "execution_count": null,
   "metadata": {},
   "outputs": [],
   "source": []
  },
  {
   "cell_type": "code",
   "execution_count": null,
   "metadata": {},
   "outputs": [],
   "source": []
  }
 ],
 "metadata": {
  "kernelspec": {
   "display_name": "Python 3",
   "language": "python",
   "name": "python3"
  },
  "language_info": {
   "codemirror_mode": {
    "name": "ipython",
    "version": 3
   },
   "file_extension": ".py",
   "mimetype": "text/x-python",
   "name": "python",
   "nbconvert_exporter": "python",
   "pygments_lexer": "ipython3",
   "version": "3.7.0"
  }
 },
 "nbformat": 4,
 "nbformat_minor": 2
}
